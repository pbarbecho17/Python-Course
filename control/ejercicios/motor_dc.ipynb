{
  "cells": [
    {
      "cell_type": "code",
      "source": [
        "!pip install control"
      ],
      "metadata": {
        "id": "gYiVrbr2rg2Q"
      },
      "id": "gYiVrbr2rg2Q",
      "execution_count": null,
      "outputs": []
    },
    {
      "cell_type": "code",
      "execution_count": null,
      "id": "98f133ec",
      "metadata": {
        "id": "98f133ec"
      },
      "outputs": [],
      "source": [
        "import control\n",
        "import numpy as np\n",
        "import matplotlib.pyplot as plt"
      ]
    },
    {
      "cell_type": "code",
      "source": [
        "Ra=0.635\n",
        "La=0.0883\n",
        "ki=9.43e-3\n",
        "kb=1010\n",
        "Jm=3.3e-6\n",
        "Bm=1"
      ],
      "metadata": {
        "id": "24FtPvc3y285"
      },
      "id": "24FtPvc3y285",
      "execution_count": null,
      "outputs": []
    },
    {
      "cell_type": "code",
      "source": [
        "num = np.array([ki/(La*Jm)])\n",
        "den = np.array([1,(Bm/Jm)+(Ra/La) , (Ra*Bm+ki*kb)/(La*Jm)])\n"
      ],
      "metadata": {
        "id": "KaO6cRmezCKb"
      },
      "id": "KaO6cRmezCKb",
      "execution_count": null,
      "outputs": []
    },
    {
      "cell_type": "code",
      "execution_count": null,
      "id": "b46104d7",
      "metadata": {
        "id": "b46104d7"
      },
      "outputs": [],
      "source": [
        "H = control.tf(num , den)\n",
        "print ('H(s) =', H)\n",
        "\n",
        "t, y = control.step_response(H)\n",
        "\n",
        "plt.plot(t,y)\n",
        "plt.title(\"Step Response\")\n",
        "plt.grid()"
      ]
    },
    {
      "cell_type": "code",
      "source": [],
      "metadata": {
        "id": "03nJ-oSo0CH6"
      },
      "id": "03nJ-oSo0CH6",
      "execution_count": null,
      "outputs": []
    }
  ],
  "metadata": {
    "hide_input": false,
    "kernelspec": {
      "display_name": "Python 3 (ipykernel)",
      "language": "python",
      "name": "python3"
    },
    "language_info": {
      "codemirror_mode": {
        "name": "ipython",
        "version": 3
      },
      "file_extension": ".py",
      "mimetype": "text/x-python",
      "name": "python",
      "nbconvert_exporter": "python",
      "pygments_lexer": "ipython3",
      "version": "3.9.7"
    },
    "colab": {
      "provenance": []
    }
  },
  "nbformat": 4,
  "nbformat_minor": 5
}